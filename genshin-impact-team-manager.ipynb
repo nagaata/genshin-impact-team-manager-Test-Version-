{
  "nbformat": 4,
  "nbformat_minor": 0,
  "metadata": {
    "colab": {
      "provenance": [],
      "authorship_tag": "ABX9TyPV5fzQ7VRXcIjo7k5B1AdO",
      "include_colab_link": true
    },
    "kernelspec": {
      "name": "python3",
      "display_name": "Python 3"
    },
    "language_info": {
      "name": "python"
    }
  },
  "cells": [
    {
      "cell_type": "markdown",
      "metadata": {
        "id": "view-in-github",
        "colab_type": "text"
      },
      "source": [
        "<a href=\"https://colab.research.google.com/github/nagaata/genshin-impact-team-manager-Test-Version-/blob/main/genshin-impact-team-manager.ipynb\" target=\"_parent\"><img src=\"https://colab.research.google.com/assets/colab-badge.svg\" alt=\"Open In Colab\"/></a>"
      ]
    },
    {
      "cell_type": "code",
      "source": [
        "\n",
        "times = []\n",
        "\n",
        "# CREATE\n",
        "def create_team(nome, personagens):\n",
        "    team = {\"id\": len(times) + 1, \"nome\": nome, \"personagens\": personagens}\n",
        "    times.append(team)\n",
        "    return team\n",
        "\n",
        "# READ\n",
        "def list_teams():\n",
        "    if not times:\n",
        "        print(\"Nenhum time cadastrado.\")\n",
        "    else:\n",
        "        for t in times:\n",
        "            print(f\"ID: {t['id']} | Nome: {t['nome']} | Personagens: {', '.join(t['personagens'])}\")\n",
        "\n",
        "def get_team(team_id):\n",
        "    for t in times:\n",
        "        if t[\"id\"] == team_id:\n",
        "            return t\n",
        "    return None\n",
        "\n",
        "# UPDATE\n",
        "def update_team(team_id, nome=None, personagens=None):\n",
        "    for t in times:\n",
        "        if t[\"id\"] == team_id:\n",
        "            if nome:\n",
        "                t[\"nome\"] = nome\n",
        "            if personagens:\n",
        "                t[\"personagens\"] = personagens\n",
        "            return t\n",
        "    return None\n",
        "\n",
        "# DELETE\n",
        "def delete_team(team_id):\n",
        "    global times\n",
        "    times = [t for t in times if t[\"id\"] != team_id]\n",
        "\n",
        "# ---------------------------\n",
        "# MENU INTERATIVO\n",
        "def menu():\n",
        "    while True:\n",
        "        print(\"\\n===== GERENCIAMENTO DE TIMES =====\")\n",
        "        print(\"1. Criar time\")\n",
        "        print(\"2. Listar times\")\n",
        "        print(\"3. Ver detalhes de um time\")\n",
        "        print(\"4. Atualizar time\")\n",
        "        print(\"5. Deletar time\")\n",
        "        print(\"0. Sair\")\n",
        "\n",
        "        opcao = input(\"Escolha uma opção: \")\n",
        "\n",
        "        if opcao == \"1\":\n",
        "            nome = input(\"Nome do time: \")\n",
        "            personagens = input(\"Personagens (separados por vírgula): \").split(\",\")\n",
        "            personagens = [p.strip() for p in personagens]\n",
        "            create_team(nome, personagens)\n",
        "            print(\"✅ Time criado com sucesso!\")\n",
        "\n",
        "        elif opcao == \"2\":\n",
        "            list_teams()\n",
        "\n",
        "        elif opcao == \"3\":\n",
        "            team_id = int(input(\"Digite o ID do time: \"))\n",
        "            t = get_team(team_id)\n",
        "            if t:\n",
        "                print(t)\n",
        "            else:\n",
        "                print(\"❌ Time não encontrado.\")\n",
        "\n",
        "        elif opcao == \"4\":\n",
        "            team_id = int(input(\"Digite o ID do time a atualizar: \"))\n",
        "            nome = input(\"Novo nome (ou deixe vazio): \")\n",
        "            personagens = input(\"Novos personagens (separados por vírgula, ou deixe vazio): \")\n",
        "            personagens = [p.strip() for p in personagens.split(\",\")] if personagens else None\n",
        "            atualizado = update_team(team_id, nome if nome else None, personagens)\n",
        "            if atualizado:\n",
        "                print(\"✅ Time atualizado:\", atualizado)\n",
        "            else:\n",
        "                print(\"❌ Time não encontrado.\")\n",
        "\n",
        "        elif opcao == \"5\":\n",
        "            team_id = int(input(\"Digite o ID do time a deletar: \"))\n",
        "            delete_team(team_id)\n",
        "            print(\"✅ Time deletado.\")\n",
        "\n",
        "        elif opcao == \"0\":\n",
        "            print(\"👋 Saindo do sistema...\")\n",
        "            break\n",
        "\n",
        "        else:\n",
        "            print(\"❌ Opção inválida! Tente de novo.\")\n",
        "\n",
        "# ---------------------------\n",
        "# Rodar o menu\n",
        "menu()\n"
      ],
      "metadata": {
        "colab": {
          "base_uri": "https://localhost:8080/"
        },
        "id": "rFFoUoY3ElGO",
        "outputId": "1862696d-5a69-44d4-a58b-e1dd0e7662d2"
      },
      "execution_count": 12,
      "outputs": [
        {
          "output_type": "stream",
          "name": "stdout",
          "text": [
            "\n",
            "===== GERENCIAMENTO DE TIMES =====\n",
            "1. Criar time\n",
            "2. Listar times\n",
            "3. Ver detalhes de um time\n",
            "4. Atualizar time\n",
            "5. Deletar time\n",
            "0. Sair\n",
            "Escolha uma opção: 0\n",
            "👋 Saindo do sistema...\n"
          ]
        }
      ]
    }
  ]
}